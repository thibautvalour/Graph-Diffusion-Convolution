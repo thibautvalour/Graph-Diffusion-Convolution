{
 "cells": [
  {
   "cell_type": "code",
   "execution_count": 1,
   "metadata": {},
   "outputs": [
    {
     "name": "stderr",
     "output_type": "stream",
     "text": [
      "c:\\Users\\33646\\Desktop\\ENSAE\\Structured data\\venv\\lib\\site-packages\\tqdm\\auto.py:22: TqdmWarning: IProgress not found. Please update jupyter and ipywidgets. See https://ipywidgets.readthedocs.io/en/stable/user_install.html\n",
      "  from .autonotebook import tqdm as notebook_tqdm\n"
     ]
    }
   ],
   "source": [
    "import os \n",
    "import torch\n",
    "from torch.nn.functional import nll_loss\n",
    "from tqdm.notebook import tqdm\n",
    "import copy\n",
    "\n",
    "from ogb.nodeproppred import PygNodePropPredDataset, Evaluator\n",
    "import torch_geometric.transforms as T\n",
    "\n",
    "from models import GCN_Classifier\n",
    "from utils import train, test\n",
    "\n",
    "device = torch.device('cuda' if torch.cuda.is_available() else 'cpu')"
   ]
  },
  {
   "attachments": {},
   "cell_type": "markdown",
   "metadata": {},
   "source": [
    "TODO : \n",
    "- Warning softmax\n",
    "- Comprendre ce qu'est la data.adj_t\n",
    "- Standardiser le code pour faire tourner avec plusieurs matrices pour comparer les résultats\n",
    "- Préparer les différentes matrices\n",
    "- Tout lancer sur Colab "
   ]
  },
  {
   "attachments": {},
   "cell_type": "markdown",
   "metadata": {},
   "source": [
    "## Load Data"
   ]
  },
  {
   "cell_type": "code",
   "execution_count": 2,
   "metadata": {},
   "outputs": [
    {
     "name": "stdout",
     "output_type": "stream",
     "text": [
      "Device: cpu\n"
     ]
    }
   ],
   "source": [
    "if 'IS_GRADESCOPE_ENV' not in os.environ:\n",
    "  dataset_name = 'ogbn-arxiv'\n",
    "  dataset = PygNodePropPredDataset(name=dataset_name,\n",
    "                                  transform=T.ToSparseTensor())\n",
    "  data = dataset[0]\n",
    "\n",
    "  # Make the adjacency matrix to symmetric\n",
    "  data.adj_t = data.adj_t.to_symmetric()\n",
    "  row, col, value = data.adj_t.coo()\n",
    "  value = torch.ones_like(row,  dtype=torch.float)\n",
    "\n",
    "  # Create a sparse tensor from the COO format\n",
    "  indices = torch.stack([row, col])\n",
    "  adj_t = torch.sparse_coo_tensor(indices, value, \n",
    "                                  size=[data.num_nodes, data.num_nodes]).to(device)\n",
    "\n",
    "  # If you use GPU, the device should be cuda\n",
    "  print('Device: {}'.format(device))\n",
    "\n",
    "  data = data.to(device)\n",
    "  split_idx = dataset.get_idx_split()\n",
    "  train_idx = split_idx['train'].to(device)"
   ]
  },
  {
   "cell_type": "code",
   "execution_count": 14,
   "metadata": {},
   "outputs": [],
   "source": [
    "# Compute degree matrix D\n",
    "D = torch.sparse.sum(adj_t, dim=1).to_dense()\n",
    "D_sqrt_inv = torch.pow(D, -0.5)\n",
    "\n",
    "# Create the indices for the diagonal elements\n",
    "indices = torch.arange(len(D_sqrt_inv)).unsqueeze(0).repeat(2, 1)\n",
    "# Create the sparse matrix\n",
    "D_sqrt_inv = torch.sparse_coo_tensor(indices, D_sqrt_inv,\n",
    "                                      size=(len(D_sqrt_inv), len(D_sqrt_inv)))\n",
    "\n",
    "# Compute symmetrically normalized adjacency matrix Tsym\n",
    "Tsym = D_sqrt_inv.matmul(adj_t).matmul(D_sqrt_inv)"
   ]
  },
  {
   "cell_type": "markdown",
   "metadata": {},
   "source": [
    "# Define model"
   ]
  },
  {
   "cell_type": "code",
   "execution_count": 15,
   "metadata": {},
   "outputs": [],
   "source": [
    "args = {\n",
    "    'device': device,\n",
    "    'num_layers': 5,\n",
    "    'hidden_dim': 256,\n",
    "    'dropout': 0.5,\n",
    "    'lr': 0.001,\n",
    "    'epochs': 1,\n",
    "    'trans_matrix': Tsym\n",
    "}"
   ]
  },
  {
   "cell_type": "code",
   "execution_count": 5,
   "metadata": {},
   "outputs": [
    {
     "name": "stderr",
     "output_type": "stream",
     "text": [
      "c:\\Users\\33646\\Desktop\\ENSAE\\Structured data\\Graph-Diffusion-Convolution\\models.py:45: UserWarning: Implicit dimension choice for log_softmax has been deprecated. Change the call to include dim=X as an argument.\n",
      "  return self.softmax(z3)\n"
     ]
    },
    {
     "name": "stdout",
     "output_type": "stream",
     "text": [
      "Epoch: 01, Loss: 24.1443, Train: 17.52%, Valid: 16.19% Test: 17.24%\n",
      "Epoch: 02, Loss: 11.7148, Train: 14.53%, Valid: 26.74% Test: 25.34%\n",
      "Epoch: 03, Loss: 6.9290, Train: 14.60%, Valid: 24.30% Test: 22.56%\n",
      "Epoch: 04, Loss: 6.4572, Train: 18.98%, Valid: 27.37% Test: 25.90%\n",
      "Epoch: 05, Loss: 6.0113, Train: 20.22%, Valid: 27.64% Test: 25.97%\n",
      "Epoch: 06, Loss: 5.1360, Train: 22.88%, Valid: 30.59% Test: 29.86%\n",
      "Epoch: 07, Loss: 5.1167, Train: 25.39%, Valid: 34.52% Test: 36.19%\n",
      "Epoch: 08, Loss: 4.6262, Train: 25.47%, Valid: 35.10% Test: 38.38%\n",
      "Epoch: 09, Loss: 5.5842, Train: 27.30%, Valid: 37.36% Test: 37.56%\n",
      "Epoch: 10, Loss: 5.0533, Train: 26.33%, Valid: 36.08% Test: 34.87%\n"
     ]
    },
    {
     "ename": "KeyboardInterrupt",
     "evalue": "",
     "output_type": "error",
     "traceback": [
      "\u001b[1;31m---------------------------------------------------------------------------\u001b[0m",
      "\u001b[1;31mKeyboardInterrupt\u001b[0m                         Traceback (most recent call last)",
      "Cell \u001b[1;32mIn[5], line 15\u001b[0m\n\u001b[0;32m     13\u001b[0m \u001b[39mfor\u001b[39;00m epoch \u001b[39min\u001b[39;00m \u001b[39mrange\u001b[39m(\u001b[39m1\u001b[39m, \u001b[39m1\u001b[39m \u001b[39m+\u001b[39m args[\u001b[39m\"\u001b[39m\u001b[39mepochs\u001b[39m\u001b[39m\"\u001b[39m]):\n\u001b[0;32m     14\u001b[0m   loss \u001b[39m=\u001b[39m train(model, data, train_idx, adj_t, optimizer, loss_fn)\n\u001b[1;32m---> 15\u001b[0m   result \u001b[39m=\u001b[39m test(model, data, split_idx, adj_t, evaluator)\n\u001b[0;32m     16\u001b[0m   train_acc, valid_acc, test_acc \u001b[39m=\u001b[39m result\n\u001b[0;32m     17\u001b[0m   \u001b[39mif\u001b[39;00m valid_acc \u001b[39m>\u001b[39m best_valid_acc:\n",
      "File \u001b[1;32mc:\\Users\\33646\\Desktop\\ENSAE\\Structured data\\venv\\lib\\site-packages\\torch\\autograd\\grad_mode.py:27\u001b[0m, in \u001b[0;36m_DecoratorContextManager.__call__.<locals>.decorate_context\u001b[1;34m(*args, **kwargs)\u001b[0m\n\u001b[0;32m     24\u001b[0m \u001b[39m@functools\u001b[39m\u001b[39m.\u001b[39mwraps(func)\n\u001b[0;32m     25\u001b[0m \u001b[39mdef\u001b[39;00m \u001b[39mdecorate_context\u001b[39m(\u001b[39m*\u001b[39margs, \u001b[39m*\u001b[39m\u001b[39m*\u001b[39mkwargs):\n\u001b[0;32m     26\u001b[0m     \u001b[39mwith\u001b[39;00m \u001b[39mself\u001b[39m\u001b[39m.\u001b[39mclone():\n\u001b[1;32m---> 27\u001b[0m         \u001b[39mreturn\u001b[39;00m func(\u001b[39m*\u001b[39margs, \u001b[39m*\u001b[39m\u001b[39m*\u001b[39mkwargs)\n",
      "File \u001b[1;32mc:\\Users\\33646\\Desktop\\ENSAE\\Structured data\\Graph-Diffusion-Convolution\\utils.py:45\u001b[0m, in \u001b[0;36mtest\u001b[1;34m(model, data, split_idx, adj_t, evaluator)\u001b[0m\n\u001b[0;32m     42\u001b[0m model\u001b[39m.\u001b[39meval()\n\u001b[0;32m     44\u001b[0m \u001b[39m# The output of model on all data\u001b[39;00m\n\u001b[1;32m---> 45\u001b[0m out \u001b[39m=\u001b[39m model(data\u001b[39m.\u001b[39;49mx, adj_t)\n\u001b[0;32m     46\u001b[0m y_pred \u001b[39m=\u001b[39m out\u001b[39m.\u001b[39margmax(dim\u001b[39m=\u001b[39m\u001b[39m-\u001b[39m\u001b[39m1\u001b[39m, keepdim\u001b[39m=\u001b[39m\u001b[39mTrue\u001b[39;00m)\n\u001b[0;32m     48\u001b[0m train_acc \u001b[39m=\u001b[39m evaluator\u001b[39m.\u001b[39meval({\n\u001b[0;32m     49\u001b[0m     \u001b[39m'\u001b[39m\u001b[39my_true\u001b[39m\u001b[39m'\u001b[39m: data\u001b[39m.\u001b[39my[split_idx[\u001b[39m'\u001b[39m\u001b[39mtrain\u001b[39m\u001b[39m'\u001b[39m]],\n\u001b[0;32m     50\u001b[0m     \u001b[39m'\u001b[39m\u001b[39my_pred\u001b[39m\u001b[39m'\u001b[39m: y_pred[split_idx[\u001b[39m'\u001b[39m\u001b[39mtrain\u001b[39m\u001b[39m'\u001b[39m]],\n\u001b[0;32m     51\u001b[0m })[\u001b[39m'\u001b[39m\u001b[39macc\u001b[39m\u001b[39m'\u001b[39m]\n",
      "File \u001b[1;32mc:\\Users\\33646\\Desktop\\ENSAE\\Structured data\\venv\\lib\\site-packages\\torch\\nn\\modules\\module.py:1194\u001b[0m, in \u001b[0;36mModule._call_impl\u001b[1;34m(self, *input, **kwargs)\u001b[0m\n\u001b[0;32m   1190\u001b[0m \u001b[39m# If we don't have any hooks, we want to skip the rest of the logic in\u001b[39;00m\n\u001b[0;32m   1191\u001b[0m \u001b[39m# this function, and just call forward.\u001b[39;00m\n\u001b[0;32m   1192\u001b[0m \u001b[39mif\u001b[39;00m \u001b[39mnot\u001b[39;00m (\u001b[39mself\u001b[39m\u001b[39m.\u001b[39m_backward_hooks \u001b[39mor\u001b[39;00m \u001b[39mself\u001b[39m\u001b[39m.\u001b[39m_forward_hooks \u001b[39mor\u001b[39;00m \u001b[39mself\u001b[39m\u001b[39m.\u001b[39m_forward_pre_hooks \u001b[39mor\u001b[39;00m _global_backward_hooks\n\u001b[0;32m   1193\u001b[0m         \u001b[39mor\u001b[39;00m _global_forward_hooks \u001b[39mor\u001b[39;00m _global_forward_pre_hooks):\n\u001b[1;32m-> 1194\u001b[0m     \u001b[39mreturn\u001b[39;00m forward_call(\u001b[39m*\u001b[39m\u001b[39minput\u001b[39m, \u001b[39m*\u001b[39m\u001b[39m*\u001b[39mkwargs)\n\u001b[0;32m   1195\u001b[0m \u001b[39m# Do not call functions when jit is used\u001b[39;00m\n\u001b[0;32m   1196\u001b[0m full_backward_hooks, non_full_backward_hooks \u001b[39m=\u001b[39m [], []\n",
      "File \u001b[1;32mc:\\Users\\33646\\Desktop\\ENSAE\\Structured data\\Graph-Diffusion-Convolution\\models.py:27\u001b[0m, in \u001b[0;36mGCN_Classifier.forward\u001b[1;34m(self, x, transition_matrix)\u001b[0m\n\u001b[0;32m     25\u001b[0m \u001b[39mdef\u001b[39;00m \u001b[39mforward\u001b[39m(\u001b[39mself\u001b[39m, x, transition_matrix):\n\u001b[1;32m---> 27\u001b[0m     z1 \u001b[39m=\u001b[39m torch\u001b[39m.\u001b[39;49msparse\u001b[39m.\u001b[39;49mmm(transition_matrix, x)\n\u001b[0;32m     28\u001b[0m     z1 \u001b[39m=\u001b[39m \u001b[39mself\u001b[39m\u001b[39m.\u001b[39mfc1(z1)\n\u001b[0;32m     29\u001b[0m     z1 \u001b[39m=\u001b[39m \u001b[39mself\u001b[39m\u001b[39m.\u001b[39mbn1(z1)\n",
      "\u001b[1;31mKeyboardInterrupt\u001b[0m: "
     ]
    }
   ],
   "source": [
    "model = GCN_Classifier(input_dim=dataset.num_features,\n",
    "                       hidden_dim=args['hidden_dim'],\n",
    "                       output_dim=dataset.num_classes,\n",
    "                       dropout=args['dropout']).to(args['device'])\n",
    "\n",
    "optimizer = torch.optim.Adam(model.parameters(), lr=args['lr'])\n",
    "evaluator = Evaluator(name='ogbn-arxiv')\n",
    "loss_fn = nll_loss\n",
    "\n",
    "best_model = None\n",
    "best_valid_acc = 0\n",
    "\n",
    "for epoch in range(1, 1 + args[\"epochs\"]):\n",
    "  loss = train(model, data, train_idx, args['trans_matrix'], optimizer, loss_fn)\n",
    "  result = test(model, data, split_idx, args['trans_matrix'], evaluator)\n",
    "  train_acc, valid_acc, test_acc = result\n",
    "  if valid_acc > best_valid_acc:\n",
    "      best_valid_acc = valid_acc\n",
    "      best_model = copy.deepcopy(model)\n",
    "  print(f'Epoch: {epoch:02d}, '\n",
    "        f'Loss: {loss:.4f}, '\n",
    "        f'Train: {100 * train_acc:.2f}%, '\n",
    "        f'Valid: {100 * valid_acc:.2f}% '\n",
    "        f'Test: {100 * test_acc:.2f}%')"
   ]
  },
  {
   "cell_type": "code",
   "execution_count": null,
   "metadata": {},
   "outputs": [],
   "source": []
  }
 ],
 "metadata": {
  "kernelspec": {
   "display_name": "venv",
   "language": "python",
   "name": "python3"
  },
  "language_info": {
   "codemirror_mode": {
    "name": "ipython",
    "version": 3
   },
   "file_extension": ".py",
   "mimetype": "text/x-python",
   "name": "python",
   "nbconvert_exporter": "python",
   "pygments_lexer": "ipython3",
   "version": "3.9.13"
  },
  "orig_nbformat": 4,
  "vscode": {
   "interpreter": {
    "hash": "877977f2f616ef89ae9c0db206424d48530d28929fbeef55383760714580946d"
   }
  }
 },
 "nbformat": 4,
 "nbformat_minor": 2
}

{
  "cells": [
    {
      "cell_type": "code",
      "execution_count": null,
      "metadata": {
        "colab": {
          "base_uri": "https://localhost:8080/",
          "height": 1000
        },
        "id": "Ab7Ps6ryXOGE",
        "outputId": "0c7d6ccf-675a-4158-a3f3-3f23e496402c"
      },
      "outputs": [],
      "source": [
        "colab = False\n",
        "\n",
        "if colab:\n",
        "  import torch\n",
        "  import os\n",
        "  print(\"PyTorch has version {}\".format(torch.__version__))\n",
        "\n",
        "  # Install torch geometric\n",
        "  if 'IS_GRADESCOPE_ENV' not in os.environ:\n",
        "    !pip install torch-scatter -f https://pytorch-geometric.com/whl/torch-1.13.1+cu116.html\n",
        "    !pip install torch-sparse -f https://pytorch-geometric.com/whl/torch-1.13.1+cu116.html\n",
        "    !pip install torch-geometric\n",
        "    !pip install ogb\n",
        "\n",
        "  !git clone https://github.com/thibautvalour/Graph-Diffusion-Convolution.git\n",
        "  %cd Graph-Diffusion-Convolution"
      ]
    },
    {
      "cell_type": "code",
      "execution_count": null,
      "metadata": {
        "id": "_lnqkvzrXNNO"
      },
      "outputs": [],
      "source": [
        "import os \n",
        "import math\n",
        "import torch\n",
        "from torch.nn.functional import nll_loss\n",
        "import copy\n",
        "\n",
        "from ogb.nodeproppred import PygNodePropPredDataset, Evaluator\n",
        "import torch_geometric.transforms as T\n",
        "\n",
        "from models import GCN_Classifier\n",
        "from utils import train, test\n",
        "from matrix_format import compute_Tsym, gdc_pagerank\n",
        "\n",
        "device = torch.device('cuda' if torch.cuda.is_available() else 'cpu')"
      ]
    },
    {
      "cell_type": "markdown",
      "metadata": {
        "id": "WWWuUkDqXNNU"
      },
      "source": [
        "## Load Data"
      ]
    },
    {
      "cell_type": "code",
      "execution_count": null,
      "metadata": {
        "colab": {
          "base_uri": "https://localhost:8080/"
        },
        "id": "y3pAL4mEXNNV",
        "outputId": "e5f5db11-5f57-4bec-8d33-f443ac8a0000"
      },
      "outputs": [],
      "source": [
        "if 'IS_GRADESCOPE_ENV' not in os.environ:\n",
        "  dataset_name = 'ogbn-arxiv'\n",
        "  dataset = PygNodePropPredDataset(name=dataset_name,\n",
        "                                  transform=T.ToSparseTensor())\n",
        "  data = dataset[0]\n",
        "\n",
        "  # Make the adjacency matrix to symmetric\n",
        "  data.adj_t = data.adj_t.to_symmetric()\n",
        "  row, col, value = data.adj_t.coo()\n",
        "  value = torch.ones_like(row,  dtype=torch.float)\n",
        "\n",
        "  # Create a sparse tensor from the COO format\n",
        "  indices = torch.stack([row, col])\n",
        "  A = torch.sparse_coo_tensor(indices, value, \n",
        "                              size=[data.num_nodes, data.num_nodes]).to(device)\n",
        "\n",
        "  # If you use GPU, the device should be cuda\n",
        "  print('Device: {}'.format(device))\n",
        "\n",
        "  data = data.to(device)\n",
        "  split_idx = dataset.get_idx_split()\n",
        "  train_idx = split_idx['train'].to(device)\n",
        "  A = A.to(device)"
      ]
    },
    {
      "cell_type": "code",
      "execution_count": null,
      "metadata": {
        "id": "btsATsIkXNNW"
      },
      "outputs": [],
      "source": [
        "T_sym = compute_Tsym(A)"
      ]
    },
    {
      "cell_type": "markdown",
      "metadata": {
        "id": "lKfVc6ZYXNNZ"
      },
      "source": [
        "# Define model"
      ]
    },
    {
      "cell_type": "code",
      "execution_count": null,
      "metadata": {
        "id": "1qEF-q-jXNNZ"
      },
      "outputs": [],
      "source": [
        "args = {\n",
        "    'device': device,\n",
        "    'num_layers': 5,\n",
        "    'hidden_dim': 256,\n",
        "    'dropout': 0.5,\n",
        "    'lr': 0.001,\n",
        "    'epochs': 20,\n",
        "    'trans_matrix': A\n",
        "}"
      ]
    },
    {
      "cell_type": "code",
      "execution_count": null,
      "metadata": {
        "colab": {
          "base_uri": "https://localhost:8080/"
        },
        "id": "V_59aKjPXNNa",
        "outputId": "f339b612-6c87-4bed-9b3c-4df65bb4042f"
      },
      "outputs": [],
      "source": [
        "model = GCN_Classifier(input_dim=dataset.num_features,\n",
        "                       hidden_dim=args['hidden_dim'],\n",
        "                       output_dim=dataset.num_classes,\n",
        "                       dropout=args['dropout']).to(args['device'])\n",
        "\n",
        "optimizer = torch.optim.Adam(model.parameters(), lr=args['lr'])\n",
        "evaluator = Evaluator(name='ogbn-arxiv')\n",
        "loss_fn = nll_loss\n",
        "\n",
        "best_model = None\n",
        "best_valid_acc = 0\n",
        "\n",
        "for epoch in range(1, 1 + args[\"epochs\"]):\n",
        "  loss = train(model, data, train_idx, args['trans_matrix'], optimizer, loss_fn)\n",
        "  result = test(model, data, split_idx, args['trans_matrix'], evaluator)\n",
        "  train_acc, valid_acc, test_acc = result\n",
        "  if valid_acc > best_valid_acc:\n",
        "      best_valid_acc = valid_acc\n",
        "      best_model = copy.deepcopy(model)\n",
        "  print(f'Epoch: {epoch:02d}, '\n",
        "        f'Loss: {loss:.4f}, '\n",
        "        f'Train: {100 * train_acc:.2f}%, '\n",
        "        f'Valid: {100 * valid_acc:.2f}% '\n",
        "        f'Test: {100 * test_acc:.2f}%')"
      ]
    },
    {
      "cell_type": "code",
      "execution_count": null,
      "metadata": {
        "id": "v940A4AdXNNb"
      },
      "outputs": [],
      "source": [
        "args = {\n",
        "    'device': device,\n",
        "    'num_layers': 5,\n",
        "    'hidden_dim': 256,\n",
        "    'dropout': 0.5,\n",
        "    'lr': 0.001,\n",
        "    'epochs': 50,\n",
        "    'trans_matrix': T_sym\n",
        "}"
      ]
    },
    {
      "cell_type": "code",
      "execution_count": null,
      "metadata": {
        "colab": {
          "base_uri": "https://localhost:8080/"
        },
        "id": "9bWqaZyPXNNb",
        "outputId": "4143ed0e-f5bb-43ac-e1d8-c628fb0be484"
      },
      "outputs": [],
      "source": [
        "model = GCN_Classifier(input_dim=dataset.num_features,\n",
        "                       hidden_dim=args['hidden_dim'],\n",
        "                       output_dim=dataset.num_classes,\n",
        "                       dropout=args['dropout']).to(args['device'])\n",
        "\n",
        "optimizer = torch.optim.Adam(model.parameters(), lr=args['lr'])\n",
        "evaluator = Evaluator(name='ogbn-arxiv')\n",
        "loss_fn = nll_loss\n",
        "\n",
        "best_model = None\n",
        "best_valid_acc = 0\n",
        "\n",
        "for epoch in range(1, 1 + args[\"epochs\"]):\n",
        "  loss = train(model, data, train_idx, args['trans_matrix'], optimizer, loss_fn)\n",
        "  result = test(model, data, split_idx, args['trans_matrix'], evaluator)\n",
        "  train_acc, valid_acc, test_acc = result\n",
        "  if valid_acc > best_valid_acc:\n",
        "      best_valid_acc = valid_acc\n",
        "      best_model = copy.deepcopy(model)\n",
        "  print(f'Epoch: {epoch:02d}, '\n",
        "        f'Loss: {loss:.4f}, '\n",
        "        f'Train: {100 * train_acc:.2f}%, '\n",
        "        f'Valid: {100 * valid_acc:.2f}% '\n",
        "        f'Test: {100 * test_acc:.2f}%')"
      ]
    },
    {
      "cell_type": "markdown",
      "metadata": {
        "id": "tFL6fcGFdoKc"
      },
      "source": [
        "# Diffusion pagerank"
      ]
    },
    {
      "cell_type": "code",
      "execution_count": null,
      "metadata": {
        "id": "19991BwmXNNY"
      },
      "outputs": [],
      "source": [
        "S_pr = gdc_pagerank(A, 0.15, 1e-4)"
      ]
    },
    {
      "cell_type": "code",
      "execution_count": null,
      "metadata": {
        "id": "pOPyQai0XNNb"
      },
      "outputs": [],
      "source": [
        "args = {\n",
        "    'device': device,\n",
        "    'num_layers': 5,\n",
        "    'hidden_dim': 256,\n",
        "    'dropout': 0.5,\n",
        "    'lr': 0.001,\n",
        "    'epochs': 60,\n",
        "    'trans_matrix': S_pr\n",
        "}"
      ]
    },
    {
      "cell_type": "code",
      "execution_count": null,
      "metadata": {
        "colab": {
          "base_uri": "https://localhost:8080/"
        },
        "id": "jQs019BUXNNc",
        "outputId": "23ef9d69-c2b0-424f-9917-d59d4dbeb464"
      },
      "outputs": [],
      "source": [
        "model = GCN_Classifier(input_dim=dataset.num_features,\n",
        "                       hidden_dim=args['hidden_dim'],\n",
        "                       output_dim=dataset.num_classes,\n",
        "                       dropout=args['dropout']).to(args['device'])\n",
        "\n",
        "optimizer = torch.optim.Adam(model.parameters(), lr=args['lr'])\n",
        "evaluator = Evaluator(name='ogbn-arxiv')\n",
        "loss_fn = nll_loss\n",
        "\n",
        "best_model = None\n",
        "best_valid_acc = 0\n",
        "\n",
        "for epoch in range(1, 1 + args[\"epochs\"]):\n",
        "  loss = train(model, data, train_idx, args['trans_matrix'], optimizer, loss_fn)\n",
        "  result = test(model, data, split_idx, args['trans_matrix'], evaluator)\n",
        "  train_acc, valid_acc, test_acc = result\n",
        "  if valid_acc > best_valid_acc:\n",
        "      best_valid_acc = valid_acc\n",
        "      best_model = copy.deepcopy(model)\n",
        "  print(f'Epoch: {epoch:02d}, '\n",
        "        f'Loss: {loss:.4f}, '\n",
        "        f'Train: {100 * train_acc:.2f}%, '\n",
        "        f'Valid: {100 * valid_acc:.2f}% '\n",
        "        f'Test: {100 * test_acc:.2f}%')"
      ]
    },
    {
      "cell_type": "markdown",
      "metadata": {
        "id": "P7knZa2zd9dX"
      },
      "source": [
        "# Diffusion Heat"
      ]
    },
    {
      "cell_type": "code",
      "execution_count": null,
      "metadata": {
        "colab": {
          "base_uri": "https://localhost:8080/"
        },
        "id": "Do3mLStUlXFL",
        "outputId": "af24d743-6125-4a9b-8fe2-d223ce78d198"
      },
      "outputs": [],
      "source": [
        "torch.tensor([[],[]])"
      ]
    },
    {
      "cell_type": "code",
      "execution_count": null,
      "metadata": {
        "colab": {
          "base_uri": "https://localhost:8080/",
          "height": 767
        },
        "id": "o_iqPK6geAGb",
        "outputId": "bd597002-d4eb-44b6-b6de-01c0f4794492"
      },
      "outputs": [],
      "source": [
        "def gdc_heat(A, t, sum_limit, eps):\n",
        "\n",
        "    N = A.shape[0]\n",
        "    # Self-loops\n",
        "    indices = torch.arange(N).unsqueeze(0).repeat(2, 1).to(device) \n",
        "    values = torch.ones(N, dtype=torch.float).to(device) \n",
        "    sparse_identiy = torch.sparse_coo_tensor(indices, values,\n",
        "                                             size=(N, N))    \n",
        "    \n",
        "    A_loop = A + sparse_identiy\n",
        "    \n",
        "    # Symmetric transition matrix\n",
        "    D_loop = torch.sparse.sum(A_loop, dim=1).to_dense()\n",
        "    D_sqrt_inv = torch.pow(D_loop, -0.5)\n",
        "    D_sqrt_inv = torch.sparse_coo_tensor(indices, D_sqrt_inv,\n",
        "                                         size=(N, N))\n",
        "\n",
        "    T_sym = D_sqrt_inv @ A_loop @ D_sqrt_inv\n",
        "\n",
        "    S = torch.sparse_coo_tensor(size=(N, N)).to(device)\n",
        "    T_k = sparse_identiy\n",
        "    for k in range(sum_limit):\n",
        "      print(k)\n",
        "      heat_coeff = math.exp(-t) * t**k / math.factorial(k)\n",
        "      S += heat_coeff * T_k\n",
        "      print(T_k)\n",
        "      print(T_sym)\n",
        "      T_k = T_k @ T_sym\n",
        "\n",
        "    # TODO : check why negative values are present in S\n",
        "    # Sparsify using threshold epsilon\n",
        "    indices = S.indices()\n",
        "    thresholded_val = S.values() * (S.values() >= eps)\n",
        "    S_tilde = torch.sparse_coo_tensor(indices, thresholded_val,\n",
        "                                      size=(N, N))\n",
        "\n",
        "    # Column-normalized transition matrix on graph S_tilde\n",
        "    D_tilde_vec = torch.sparse.sum(S_tilde, dim=1).to_dense()\n",
        "    indices = torch.arange(N).unsqueeze(0).repeat(2, 1).to(device) \n",
        "    D_tilde_vec = torch.sparse_coo_tensor(indices, D_tilde_vec,\n",
        "                                            size=(N, N))\n",
        "    T_S = S_tilde @ torch.pow(D_tilde_vec, -1)\n",
        "    \n",
        "    return T_S\n",
        "\n",
        "S = gdc_heat(A, 3, 25, 1e-4)"
      ]
    },
    {
      "cell_type": "code",
      "execution_count": null,
      "metadata": {
        "id": "CeguVlH1kZHC"
      },
      "outputs": [],
      "source": []
    }
  ],
  "metadata": {
    "accelerator": "GPU",
    "colab": {
      "provenance": []
    },
    "gpuClass": "standard",
    "kernelspec": {
      "display_name": "venv",
      "language": "python",
      "name": "python3"
    },
    "language_info": {
      "codemirror_mode": {
        "name": "ipython",
        "version": 3
      },
      "file_extension": ".py",
      "mimetype": "text/x-python",
      "name": "python",
      "nbconvert_exporter": "python",
      "pygments_lexer": "ipython3",
      "version": "3.9.13"
    },
    "orig_nbformat": 4,
    "vscode": {
      "interpreter": {
        "hash": "877977f2f616ef89ae9c0db206424d48530d28929fbeef55383760714580946d"
      }
    }
  },
  "nbformat": 4,
  "nbformat_minor": 0
}

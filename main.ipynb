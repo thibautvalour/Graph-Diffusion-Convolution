{
  "cells": [
    {
      "cell_type": "code",
      "execution_count": null,
      "metadata": {
        "id": "BGcxZqVSKqBT"
      },
      "outputs": [],
      "source": [
        "colab = True\n",
        "\n",
        "import torch\n",
        "import os \n",
        "\n",
        "if colab:\n",
        "  print(\"PyTorch has version {}\".format(torch.__version__))\n",
        "\n",
        "  # Install torch geometric\n",
        "  if 'IS_GRADESCOPE_ENV' not in os.environ:\n",
        "    !pip install torch-scatter -f https://pytorch-geometric.com/whl/torch-1.13.1+cu116.html\n",
        "    !pip install torch-sparse -f https://pytorch-geometric.com/whl/torch-1.13.1+cu116.html\n",
        "    !pip install torch-geometric\n",
        "\n",
        "  !git clone https://github.com/thibautvalour/Graph-Diffusion-Convolution.git\n",
        "  %cd Graph-Diffusion-Convolution\n",
        "\n",
        "import numpy as np\n",
        "import networkx as nx\n",
        "import pandas as pd\n",
        "import math as math\n",
        "from torch_geometric.datasets import Planetoid\n",
        "from torch.nn.functional import nll_loss\n",
        "\n",
        "from matrix_format import gdc_pagerank, gdc_heat, compute_Lsym, compute_Lrw\n",
        "from models import GCN_Classifier\n",
        "from utils import train, test\n",
        "\n",
        "device = torch.device('cuda' if torch.cuda.is_available() else 'cpu')\n",
        "print('device:', device)"
      ]
    },
    {
      "attachments": {},
      "cell_type": "markdown",
      "metadata": {},
      "source": [
        "# 1 Cora"
      ]
    },
    {
      "cell_type": "code",
      "execution_count": 1,
      "metadata": {},
      "outputs": [
        {
          "ename": "NameError",
          "evalue": "name 'Planetoid' is not defined",
          "output_type": "error",
          "traceback": [
            "\u001b[1;31m---------------------------------------------------------------------------\u001b[0m",
            "\u001b[1;31mNameError\u001b[0m                                 Traceback (most recent call last)",
            "Cell \u001b[1;32mIn[1], line 1\u001b[0m\n\u001b[1;32m----> 1\u001b[0m dataset \u001b[39m=\u001b[39m Planetoid(root\u001b[39m=\u001b[39m\u001b[39m'\u001b[39m\u001b[39m../cora\u001b[39m\u001b[39m'\u001b[39m, name\u001b[39m=\u001b[39m\u001b[39m'\u001b[39m\u001b[39mCora\u001b[39m\u001b[39m'\u001b[39m)\n\u001b[0;32m      2\u001b[0m data \u001b[39m=\u001b[39m dataset[\u001b[39m0\u001b[39m]\n\u001b[0;32m      4\u001b[0m test_prop \u001b[39m=\u001b[39m \u001b[39m0.2\u001b[39m\n",
            "\u001b[1;31mNameError\u001b[0m: name 'Planetoid' is not defined"
          ]
        }
      ],
      "source": [
        "dataset = Planetoid(root='../cora', name='Cora')\n",
        "data = dataset[0]\n",
        "\n",
        "test_prop = 0.2\n",
        "train_idx = torch.tensor(np.random.binomial(1, 1-test_prop, size=data.y.shape[0])).astype(bool).to(device)\n",
        "test_idx = torch.tensor(np.logical_not(train_idx)).astype(bool).to(device)\n",
        "\n",
        "Gnx = nx.from_pandas_edgelist(pd.DataFrame(data['edge_index'].T,\n",
        "                                           columns=['source', 'target']))\n",
        "Gnx = Gnx.to_undirected()\n",
        "\n",
        "# Exctract adjacency matrix\n",
        "A = nx.adjacency_matrix(Gnx).toarray()\n",
        "data = data.to(device)"
      ]
    },
    {
      "cell_type": "markdown",
      "metadata": {},
      "source": [
        "### 1.1 Laplacian matrix"
      ]
    },
    {
      "cell_type": "code",
      "execution_count": null,
      "metadata": {},
      "outputs": [],
      "source": [
        "Lsym = compute_Lsym(A)\n",
        "Lsym = torch.from_numpy(Lsym).float().to(device)"
      ]
    },
    {
      "cell_type": "code",
      "execution_count": null,
      "metadata": {},
      "outputs": [],
      "source": [
        "args = {\n",
        "    'device': device,\n",
        "    'hidden_layers': 1,\n",
        "    'hidden_dim': 264,\n",
        "    'dropout': 0.5,\n",
        "    'lr': 3e-4,\n",
        "    'epochs': 3,\n",
        "    'trans_matrix': Lsym\n",
        "}"
      ]
    },
    {
      "cell_type": "code",
      "execution_count": null,
      "metadata": {},
      "outputs": [],
      "source": [
        "model = GCN_Classifier(input_dim=dataset.num_features,\n",
        "                       hidden_dim=args['hidden_dim'],\n",
        "                       hidden_layers=args['hidden_layers'],\n",
        "                       output_dim=dataset.num_classes,\n",
        "                       dropout=args['dropout']).to(args['device'])\n",
        "\n",
        "optimizer = torch.optim.Adam(model.parameters(), lr=args['lr'])\n",
        "loss_fn = nll_loss\n",
        "\n",
        "for epoch in range(1, 1 + args[\"epochs\"]):\n",
        "  loss = train(model, data, train_idx, args['trans_matrix'], optimizer, loss_fn)\n",
        "  train_acc, test_acc = test(model, data, train_idx, test_idx, args['trans_matrix'])\n",
        "\n",
        "  print(f'Epoch: {epoch:02d}, '\n",
        "        f'Loss: {loss:.4f}, '\n",
        "        f'Train: {100*train_acc:.2f}%, '\n",
        "        f'Test: {100*test_acc:.2f}%')"
      ]
    },
    {
      "cell_type": "code",
      "execution_count": null,
      "metadata": {},
      "outputs": [],
      "source": [
        "Lrw = compute_Lrw(A)\n",
        "Lrw = torch.from_numpy(Lrw).float().to(device)\n",
        "args['trans_matrix'] = Lrw"
      ]
    },
    {
      "cell_type": "code",
      "execution_count": null,
      "metadata": {},
      "outputs": [],
      "source": [
        "model = GCN_Classifier(input_dim=dataset.num_features,\n",
        "                       hidden_dim=args['hidden_dim'],\n",
        "                       hidden_layers=args['hidden_layers'],\n",
        "                       output_dim=dataset.num_classes,\n",
        "                       dropout=args['dropout']).to(args['device'])\n",
        "\n",
        "optimizer = torch.optim.Adam(model.parameters(), lr=args['lr'])\n",
        "loss_fn = nll_loss\n",
        "\n",
        "for epoch in range(1, 1 + args[\"epochs\"]):\n",
        "  loss = train(model, data, train_idx, args['trans_matrix'], optimizer, loss_fn)\n",
        "  train_acc, test_acc = test(model, data, train_idx, test_idx, args['trans_matrix'])\n",
        "\n",
        "  print(f'Epoch: {epoch:02d}, '\n",
        "        f'Loss: {loss:.4f}, '\n",
        "        f'Train: {100*train_acc:.2f}%, '\n",
        "        f'Test: {100*test_acc:.2f}%')"
      ]
    },
    {
      "attachments": {},
      "cell_type": "markdown",
      "metadata": {},
      "source": [
        "### 1.2 Page rank"
      ]
    },
    {
      "cell_type": "code",
      "execution_count": null,
      "metadata": {},
      "outputs": [],
      "source": [
        "pagerank = gdc_pagerank(A, 0.05, 1e-4)\n",
        "pagerank = torch.from_numpy(pagerank).float().to(device)"
      ]
    },
    {
      "cell_type": "code",
      "execution_count": null,
      "metadata": {},
      "outputs": [],
      "source": [
        "model = GCN_Classifier(input_dim=dataset.num_features,\n",
        "                       hidden_dim=args['hidden_dim'],\n",
        "                       hidden_layers=args['hidden_layers'],\n",
        "                       output_dim=dataset.num_classes,\n",
        "                       dropout=args['dropout']).to(args['device'])\n",
        "\n",
        "optimizer = torch.optim.Adam(model.parameters(), lr=args['lr'])\n",
        "loss_fn = nll_loss\n",
        "\n",
        "for epoch in range(1, 1 + args[\"epochs\"]):\n",
        "  loss = train(model, data, train_idx, args['trans_matrix'], optimizer, loss_fn)\n",
        "  train_acc, test_acc = test(model, data, train_idx, test_idx, args['trans_matrix'])\n",
        "\n",
        "  print(f'Epoch: {epoch:02d}, '\n",
        "        f'Loss: {loss:.4f}, '\n",
        "        f'Train: {100*train_acc:.2f}%, '\n",
        "        f'Test: {100*test_acc:.2f}%')"
      ]
    },
    {
      "cell_type": "markdown",
      "metadata": {},
      "source": [
        "### 1.3 Heat"
      ]
    },
    {
      "cell_type": "code",
      "execution_count": null,
      "metadata": {},
      "outputs": [],
      "source": [
        "heat = gdc_heat(A, 3, 10, 1e-4)\n",
        "heat = torch.from_numpy(heat).float().to(device)\n",
        "args['trans_matrix'] = heat"
      ]
    },
    {
      "cell_type": "code",
      "execution_count": null,
      "metadata": {},
      "outputs": [],
      "source": [
        "model = GCN_Classifier(input_dim=dataset.num_features,\n",
        "                       hidden_dim=args['hidden_dim'],\n",
        "                       hidden_layers=args['hidden_layers'],\n",
        "                       output_dim=dataset.num_classes,\n",
        "                       dropout=args['dropout']).to(args['device'])\n",
        "\n",
        "optimizer = torch.optim.Adam(model.parameters(), lr=args['lr'])\n",
        "loss_fn = nll_loss\n",
        "\n",
        "for epoch in range(1, 1 + args[\"epochs\"]):\n",
        "  loss = train(model, data, train_idx, args['trans_matrix'], optimizer, loss_fn)\n",
        "  train_acc, test_acc = test(model, data, train_idx, test_idx, args['trans_matrix'])\n",
        "\n",
        "  print(f'Epoch: {epoch:02d}, '\n",
        "        f'Loss: {loss:.4f}, '\n",
        "        f'Train: {100*train_acc:.2f}%, '\n",
        "        f'Test: {100*test_acc:.2f}%')"
      ]
    }
  ],
  "metadata": {
    "accelerator": "GPU",
    "colab": {
      "provenance": []
    },
    "gpuClass": "standard",
    "kernelspec": {
      "display_name": "venv",
      "language": "python",
      "name": "python3"
    },
    "language_info": {
      "codemirror_mode": {
        "name": "ipython",
        "version": 3
      },
      "file_extension": ".py",
      "mimetype": "text/x-python",
      "name": "python",
      "nbconvert_exporter": "python",
      "pygments_lexer": "ipython3",
      "version": "3.9.13"
    },
    "orig_nbformat": 4,
    "vscode": {
      "interpreter": {
        "hash": "877977f2f616ef89ae9c0db206424d48530d28929fbeef55383760714580946d"
      }
    }
  },
  "nbformat": 4,
  "nbformat_minor": 0
}

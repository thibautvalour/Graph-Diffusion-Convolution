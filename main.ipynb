{
  "cells": [
    {
      "cell_type": "code",
      "execution_count": 1,
      "metadata": {
        "colab": {
          "base_uri": "https://localhost:8080/"
        },
        "id": "BGcxZqVSKqBT",
        "outputId": "e0b47720-9f4f-4d38-d0c8-612cef60e53b"
      },
      "outputs": [
        {
          "name": "stderr",
          "output_type": "stream",
          "text": [
            "c:\\Users\\33646\\Desktop\\ENSAE\\Structured data\\venv\\lib\\site-packages\\tqdm\\auto.py:22: TqdmWarning: IProgress not found. Please update jupyter and ipywidgets. See https://ipywidgets.readthedocs.io/en/stable/user_install.html\n",
            "  from .autonotebook import tqdm as notebook_tqdm\n"
          ]
        },
        {
          "name": "stdout",
          "output_type": "stream",
          "text": [
            "device: cpu\n"
          ]
        }
      ],
      "source": [
        "colab = False\n",
        "\n",
        "import torch\n",
        "import os \n",
        "\n",
        "if colab:\n",
        "  print(\"PyTorch has version {}\".format(torch.__version__))\n",
        "\n",
        "  # Install torch geometric\n",
        "  if 'IS_GRADESCOPE_ENV' not in os.environ:\n",
        "    !pip install torch-scatter -f https://pytorch-geometric.com/whl/torch-1.13.1+cu116.html\n",
        "    !pip install torch-sparse -f https://pytorch-geometric.com/whl/torch-1.13.1+cu116.html\n",
        "    !pip install torch-geometric\n",
        "\n",
        "  !git clone https://github.com/thibautvalour/Graph-Diffusion-Convolution.git\n",
        "  %cd Graph-Diffusion-Convolution\n",
        "\n",
        "import numpy as np\n",
        "import networkx as nx\n",
        "import pandas as pd\n",
        "import math as math\n",
        "from torch_geometric.datasets import Planetoid\n",
        "from torch.nn.functional import nll_loss\n",
        "\n",
        "from matrix_format import gdc_pagerank, gdc_heat, compute_Lsym, compute_Lrw\n",
        "from models import GCN_Classifier\n",
        "from utils import train, test\n",
        "\n",
        "device = torch.device('cuda' if torch.cuda.is_available() else 'cpu')\n",
        "print('device:', device)"
      ]
    },
    {
      "cell_type": "markdown",
      "metadata": {
        "id": "yZ5osB7ONHje"
      },
      "source": [
        "# 1 Cora"
      ]
    },
    {
      "cell_type": "code",
      "execution_count": 2,
      "metadata": {
        "colab": {
          "base_uri": "https://localhost:8080/"
        },
        "id": "9Ms7M0izNHjg",
        "outputId": "6c97906d-6c29-4ab4-e619-b57713fc1d45"
      },
      "outputs": [
        {
          "name": "stderr",
          "output_type": "stream",
          "text": [
            "C:\\Users\\33646\\AppData\\Local\\Temp\\ipykernel_10772\\351346556.py:6: UserWarning: To copy construct from a tensor, it is recommended to use sourceTensor.clone().detach() or sourceTensor.clone().detach().requires_grad_(True), rather than torch.tensor(sourceTensor).\n",
            "  test_idx = torch.tensor(np.logical_not(train_idx)).to(bool).to(device)\n"
          ]
        }
      ],
      "source": [
        "dataset = Planetoid(root='../cora', name='Cora')\n",
        "data = dataset[0]\n",
        "\n",
        "test_prop = 0.2\n",
        "train_idx = torch.tensor(np.random.binomial(1, 1-test_prop, size=data.y.shape[0])).to(bool)\n",
        "test_idx = torch.tensor(np.logical_not(train_idx)).to(bool).to(device)\n",
        "train_idx = train_idx.to(device)\n",
        "\n",
        "Gnx = nx.from_pandas_edgelist(pd.DataFrame(data['edge_index'].T,\n",
        "                                           columns=['source', 'target']))\n",
        "Gnx = Gnx.to_undirected()\n",
        "\n",
        "# Exctract adjacency matrix\n",
        "A = nx.adjacency_matrix(Gnx).toarray()\n",
        "data = data.to(device)"
      ]
    },
    {
      "cell_type": "markdown",
      "metadata": {
        "id": "U6XzVxtENHjh"
      },
      "source": [
        "### 1.1 Laplacian matrix"
      ]
    },
    {
      "cell_type": "code",
      "execution_count": 3,
      "metadata": {
        "id": "erC5X1k6NHjh"
      },
      "outputs": [],
      "source": [
        "Lsym = compute_Lsym(A)\n",
        "Lsym = torch.from_numpy(Lsym).float().to(device)"
      ]
    },
    {
      "cell_type": "code",
      "execution_count": 4,
      "metadata": {
        "id": "vmsuqARsNHjh"
      },
      "outputs": [],
      "source": [
        "args = {\n",
        "    'device': device,\n",
        "    'hidden_layers': 1,\n",
        "    'hidden_dim': 264,\n",
        "    'dropout': 0.3,\n",
        "    'lr': 3e-4,\n",
        "    'epochs': 80,\n",
        "    'trans_matrix': Lsym\n",
        "}"
      ]
    },
    {
      "cell_type": "code",
      "execution_count": 5,
      "metadata": {
        "colab": {
          "base_uri": "https://localhost:8080/"
        },
        "id": "Mo0MZ4PQNHji",
        "outputId": "ee96cdcb-22f2-4a8d-b339-048dd3fb873d"
      },
      "outputs": [
        {
          "name": "stdout",
          "output_type": "stream",
          "text": [
            "Epoch: 01, Loss: 2.0701, Train: 24.87%, Test: 24.38%\n",
            "Epoch: 02, Loss: 1.9488, Train: 29.63%, Test: 27.26%\n",
            "Epoch: 03, Loss: 1.8533, Train: 34.80%, Test: 29.94%\n",
            "Epoch: 04, Loss: 1.7562, Train: 39.69%, Test: 32.63%\n"
          ]
        },
        {
          "ename": "KeyboardInterrupt",
          "evalue": "",
          "output_type": "error",
          "traceback": [
            "\u001b[1;31m---------------------------------------------------------------------------\u001b[0m",
            "\u001b[1;31mKeyboardInterrupt\u001b[0m                         Traceback (most recent call last)",
            "Cell \u001b[1;32mIn[5], line 11\u001b[0m\n\u001b[0;32m      8\u001b[0m loss_fn \u001b[39m=\u001b[39m nll_loss\n\u001b[0;32m     10\u001b[0m \u001b[39mfor\u001b[39;00m epoch \u001b[39min\u001b[39;00m \u001b[39mrange\u001b[39m(\u001b[39m1\u001b[39m, \u001b[39m1\u001b[39m \u001b[39m+\u001b[39m args[\u001b[39m\"\u001b[39m\u001b[39mepochs\u001b[39m\u001b[39m\"\u001b[39m]):\n\u001b[1;32m---> 11\u001b[0m   loss \u001b[39m=\u001b[39m train(model, data, train_idx, args[\u001b[39m'\u001b[39;49m\u001b[39mtrans_matrix\u001b[39;49m\u001b[39m'\u001b[39;49m], optimizer, loss_fn)\n\u001b[0;32m     12\u001b[0m   train_acc, test_acc \u001b[39m=\u001b[39m test(model, data, train_idx, test_idx, args[\u001b[39m'\u001b[39m\u001b[39mtrans_matrix\u001b[39m\u001b[39m'\u001b[39m])\n\u001b[0;32m     14\u001b[0m   \u001b[39mprint\u001b[39m(\u001b[39mf\u001b[39m\u001b[39m'\u001b[39m\u001b[39mEpoch: \u001b[39m\u001b[39m{\u001b[39;00mepoch\u001b[39m:\u001b[39;00m\u001b[39m02d\u001b[39m\u001b[39m}\u001b[39;00m\u001b[39m, \u001b[39m\u001b[39m'\u001b[39m\n\u001b[0;32m     15\u001b[0m         \u001b[39mf\u001b[39m\u001b[39m'\u001b[39m\u001b[39mLoss: \u001b[39m\u001b[39m{\u001b[39;00mloss\u001b[39m:\u001b[39;00m\u001b[39m.4f\u001b[39m\u001b[39m}\u001b[39;00m\u001b[39m, \u001b[39m\u001b[39m'\u001b[39m\n\u001b[0;32m     16\u001b[0m         \u001b[39mf\u001b[39m\u001b[39m'\u001b[39m\u001b[39mTrain: \u001b[39m\u001b[39m{\u001b[39;00m\u001b[39m100\u001b[39m\u001b[39m*\u001b[39mtrain_acc\u001b[39m:\u001b[39;00m\u001b[39m.2f\u001b[39m\u001b[39m}\u001b[39;00m\u001b[39m%, \u001b[39m\u001b[39m'\u001b[39m\n\u001b[0;32m     17\u001b[0m         \u001b[39mf\u001b[39m\u001b[39m'\u001b[39m\u001b[39mTest: \u001b[39m\u001b[39m{\u001b[39;00m\u001b[39m100\u001b[39m\u001b[39m*\u001b[39mtest_acc\u001b[39m:\u001b[39;00m\u001b[39m.2f\u001b[39m\u001b[39m}\u001b[39;00m\u001b[39m%\u001b[39m\u001b[39m'\u001b[39m)\n",
            "File \u001b[1;32mc:\\Users\\33646\\Desktop\\ENSAE\\Structured data\\Graph-Diffusion-Convolution\\utils.py:8\u001b[0m, in \u001b[0;36mtrain\u001b[1;34m(model, data, train_idx, adj_t, optimizer, loss_fn)\u001b[0m\n\u001b[0;32m      5\u001b[0m model\u001b[39m.\u001b[39mtrain()\n\u001b[0;32m      7\u001b[0m optimizer\u001b[39m.\u001b[39mzero_grad()\n\u001b[1;32m----> 8\u001b[0m out \u001b[39m=\u001b[39m model(data\u001b[39m.\u001b[39;49mx, adj_t)\n\u001b[0;32m      9\u001b[0m loss \u001b[39m=\u001b[39m loss_fn(out[train_idx], data\u001b[39m.\u001b[39my[train_idx]\u001b[39m.\u001b[39mreshape(\u001b[39m-\u001b[39m\u001b[39m1\u001b[39m))\n\u001b[0;32m     10\u001b[0m loss\u001b[39m.\u001b[39mbackward()\n",
            "File \u001b[1;32mc:\\Users\\33646\\Desktop\\ENSAE\\Structured data\\venv\\lib\\site-packages\\torch\\nn\\modules\\module.py:1194\u001b[0m, in \u001b[0;36mModule._call_impl\u001b[1;34m(self, *input, **kwargs)\u001b[0m\n\u001b[0;32m   1190\u001b[0m \u001b[39m# If we don't have any hooks, we want to skip the rest of the logic in\u001b[39;00m\n\u001b[0;32m   1191\u001b[0m \u001b[39m# this function, and just call forward.\u001b[39;00m\n\u001b[0;32m   1192\u001b[0m \u001b[39mif\u001b[39;00m \u001b[39mnot\u001b[39;00m (\u001b[39mself\u001b[39m\u001b[39m.\u001b[39m_backward_hooks \u001b[39mor\u001b[39;00m \u001b[39mself\u001b[39m\u001b[39m.\u001b[39m_forward_hooks \u001b[39mor\u001b[39;00m \u001b[39mself\u001b[39m\u001b[39m.\u001b[39m_forward_pre_hooks \u001b[39mor\u001b[39;00m _global_backward_hooks\n\u001b[0;32m   1193\u001b[0m         \u001b[39mor\u001b[39;00m _global_forward_hooks \u001b[39mor\u001b[39;00m _global_forward_pre_hooks):\n\u001b[1;32m-> 1194\u001b[0m     \u001b[39mreturn\u001b[39;00m forward_call(\u001b[39m*\u001b[39m\u001b[39minput\u001b[39m, \u001b[39m*\u001b[39m\u001b[39m*\u001b[39mkwargs)\n\u001b[0;32m   1195\u001b[0m \u001b[39m# Do not call functions when jit is used\u001b[39;00m\n\u001b[0;32m   1196\u001b[0m full_backward_hooks, non_full_backward_hooks \u001b[39m=\u001b[39m [], []\n",
            "File \u001b[1;32mc:\\Users\\33646\\Desktop\\ENSAE\\Structured data\\Graph-Diffusion-Convolution\\models.py:41\u001b[0m, in \u001b[0;36mGCN_Classifier.forward\u001b[1;34m(self, x, transition_matrix)\u001b[0m\n\u001b[0;32m     38\u001b[0m     z \u001b[39m=\u001b[39m \u001b[39mself\u001b[39m\u001b[39m.\u001b[39mReLU(z)\n\u001b[0;32m     39\u001b[0m     z \u001b[39m=\u001b[39m \u001b[39mself\u001b[39m\u001b[39m.\u001b[39mdropout(z)\n\u001b[1;32m---> 41\u001b[0m z \u001b[39m=\u001b[39m torch\u001b[39m.\u001b[39;49msparse\u001b[39m.\u001b[39;49mmm(transition_matrix, z)\n\u001b[0;32m     42\u001b[0m z \u001b[39m=\u001b[39m \u001b[39mself\u001b[39m\u001b[39m.\u001b[39mclf(z)\n\u001b[0;32m     44\u001b[0m \u001b[39mif\u001b[39;00m \u001b[39mself\u001b[39m\u001b[39m.\u001b[39mreturn_embeds:\n",
            "\u001b[1;31mKeyboardInterrupt\u001b[0m: "
          ]
        }
      ],
      "source": [
        "model = GCN_Classifier(input_dim=dataset.num_features,\n",
        "                       hidden_dim=args['hidden_dim'],\n",
        "                       hidden_layers=args['hidden_layers'],\n",
        "                       output_dim=dataset.num_classes,\n",
        "                       dropout=args['dropout']).to(args['device'])\n",
        "\n",
        "optimizer = torch.optim.Adam(model.parameters(), lr=args['lr'])\n",
        "loss_fn = nll_loss\n",
        "\n",
        "for epoch in range(1, 1 + args[\"epochs\"]):\n",
        "  loss = train(model, data, train_idx, args['trans_matrix'], optimizer, loss_fn)\n",
        "  train_acc, test_acc = test(model, data, train_idx, test_idx, args['trans_matrix'])\n",
        "\n",
        "  print(f'Epoch: {epoch:02d}, '\n",
        "        f'Loss: {loss:.4f}, '\n",
        "        f'Train: {100*train_acc:.2f}%, '\n",
        "        f'Test: {100*test_acc:.2f}%')"
      ]
    },
    {
      "cell_type": "code",
      "execution_count": null,
      "metadata": {
        "id": "54IYcpLGNHjj"
      },
      "outputs": [],
      "source": [
        "Lrw = compute_Lrw(A)\n",
        "Lrw = torch.from_numpy(Lrw).float().to(device)\n",
        "args['trans_matrix'] = Lrw"
      ]
    },
    {
      "cell_type": "code",
      "execution_count": null,
      "metadata": {
        "colab": {
          "base_uri": "https://localhost:8080/"
        },
        "id": "P4hHfdUaNHjj",
        "outputId": "7ad99e1c-7dc8-4d4b-acdb-0db5c99904fa"
      },
      "outputs": [],
      "source": [
        "model = GCN_Classifier(input_dim=dataset.num_features,\n",
        "                       hidden_dim=args['hidden_dim'],\n",
        "                       hidden_layers=args['hidden_layers'],\n",
        "                       output_dim=dataset.num_classes,\n",
        "                       dropout=args['dropout']).to(args['device'])\n",
        "\n",
        "optimizer = torch.optim.Adam(model.parameters(), lr=args['lr'])\n",
        "loss_fn = nll_loss\n",
        "\n",
        "for epoch in range(1, 1 + args[\"epochs\"]):\n",
        "  loss = train(model, data, train_idx, args['trans_matrix'], optimizer, loss_fn)\n",
        "  train_acc, test_acc = test(model, data, train_idx, test_idx, args['trans_matrix'])\n",
        "\n",
        "  print(f'Epoch: {epoch:02d}, '\n",
        "        f'Loss: {loss:.4f}, '\n",
        "        f'Train: {100*train_acc:.2f}%, '\n",
        "        f'Test: {100*test_acc:.2f}%')"
      ]
    },
    {
      "cell_type": "markdown",
      "metadata": {
        "id": "NU1lOaO0NHjk"
      },
      "source": [
        "### 1.2 Page rank"
      ]
    },
    {
      "cell_type": "code",
      "execution_count": null,
      "metadata": {
        "id": "Owm4IW40NHjl"
      },
      "outputs": [],
      "source": [
        "pagerank = gdc_pagerank(A, 0.05, 1e-4)\n",
        "pagerank = torch.from_numpy(pagerank).float().to(device)\n",
        "\n",
        "args = {\n",
        "    'device': device,\n",
        "    'hidden_layers': 1,\n",
        "    'hidden_dim': 264,\n",
        "    'dropout': 0.3,\n",
        "    'lr': 3e-4,\n",
        "    'epochs': 80,\n",
        "    'trans_matrix': pagerank\n",
        "}"
      ]
    },
    {
      "cell_type": "code",
      "execution_count": null,
      "metadata": {
        "colab": {
          "base_uri": "https://localhost:8080/"
        },
        "id": "bTepgU1dNHjm",
        "outputId": "74aaab2e-3a8d-4669-b84e-117c7ad5218f"
      },
      "outputs": [],
      "source": [
        "model = GCN_Classifier(input_dim=dataset.num_features,\n",
        "                       hidden_dim=args['hidden_dim'],\n",
        "                       hidden_layers=args['hidden_layers'],\n",
        "                       output_dim=dataset.num_classes,\n",
        "                       dropout=args['dropout']).to(args['device'])\n",
        "\n",
        "optimizer = torch.optim.Adam(model.parameters(), lr=args['lr'])\n",
        "loss_fn = nll_loss\n",
        "\n",
        "for epoch in range(1, 1 + args[\"epochs\"]):\n",
        "  loss = train(model, data, train_idx, args['trans_matrix'], optimizer, loss_fn)\n",
        "  train_acc, test_acc = test(model, data, train_idx, test_idx, args['trans_matrix'])\n",
        "\n",
        "  print(f'Epoch: {epoch:02d}, '\n",
        "        f'Loss: {loss:.4f}, '\n",
        "        f'Train: {100*train_acc:.2f}%, '\n",
        "        f'Test: {100*test_acc:.2f}%')"
      ]
    },
    {
      "cell_type": "markdown",
      "metadata": {
        "id": "6esaq6BhNHjn"
      },
      "source": [
        "### 1.3 Heat"
      ]
    },
    {
      "cell_type": "code",
      "execution_count": null,
      "metadata": {
        "id": "210cutP4NHjn"
      },
      "outputs": [],
      "source": [
        "heat = gdc_heat(A, 3, 10, 1e-4)\n",
        "heat = torch.from_numpy(heat).float().to(device)\n",
        "\n",
        "args['trans_matrix'] = heat"
      ]
    },
    {
      "cell_type": "code",
      "execution_count": null,
      "metadata": {
        "colab": {
          "base_uri": "https://localhost:8080/"
        },
        "id": "fTYOQUJGNHjo",
        "outputId": "5f30d466-7bce-4235-d8fd-6cd45b991b85"
      },
      "outputs": [],
      "source": [
        "model = GCN_Classifier(input_dim=dataset.num_features,\n",
        "                       hidden_dim=args['hidden_dim'],\n",
        "                       hidden_layers=args['hidden_layers'],\n",
        "                       output_dim=dataset.num_classes,\n",
        "                       dropout=args['dropout']).to(args['device'])\n",
        "\n",
        "optimizer = torch.optim.Adam(model.parameters(), lr=args['lr'])\n",
        "loss_fn = nll_loss\n",
        "\n",
        "for epoch in range(1, 1 + args[\"epochs\"]):\n",
        "  loss = train(model, data, train_idx, args['trans_matrix'], optimizer, loss_fn)\n",
        "  train_acc, test_acc = test(model, data, train_idx, test_idx, args['trans_matrix'])\n",
        "\n",
        "  print(f'Epoch: {epoch:02d}, '\n",
        "        f'Loss: {loss:.4f}, '\n",
        "        f'Train: {100*train_acc:.2f}%, '\n",
        "        f'Test: {100*test_acc:.2f}%')"
      ]
    },
    {
      "attachments": {},
      "cell_type": "markdown",
      "metadata": {
        "id": "59A0ArlMOdTG"
      },
      "source": [
        "# Amazon"
      ]
    },
    {
      "cell_type": "code",
      "execution_count": 3,
      "metadata": {},
      "outputs": [
        {
          "name": "stderr",
          "output_type": "stream",
          "text": [
            "C:\\Users\\33646\\AppData\\Local\\Temp\\ipykernel_10772\\2585882802.py:8: UserWarning: To copy construct from a tensor, it is recommended to use sourceTensor.clone().detach() or sourceTensor.clone().detach().requires_grad_(True), rather than torch.tensor(sourceTensor).\n",
            "  test_idx = torch.tensor(np.logical_not(train_idx)).to(bool).to(device)\n"
          ]
        }
      ],
      "source": [
        "from torch_geometric.datasets import Amazon\n",
        "\n",
        "dataset = Amazon(root='../cora', name='Computers')\n",
        "data = dataset[0]\n",
        "\n",
        "test_prop = 0.2\n",
        "train_idx = torch.tensor(np.random.binomial(1, 1-test_prop, size=data.y.shape[0])).to(bool)\n",
        "test_idx = torch.tensor(np.logical_not(train_idx)).to(bool).to(device)\n",
        "train_idx = train_idx.to(device)\n",
        "\n",
        "Gnx = nx.from_pandas_edgelist(pd.DataFrame(data['edge_index'].T,\n",
        "                                           columns=['source', 'target']))\n",
        "Gnx = Gnx.to_undirected()\n",
        "\n",
        "# Exctract adjacency matrix\n",
        "A = nx.adjacency_matrix(Gnx).toarray()\n",
        "data = data.to(device)"
      ]
    },
    {
      "cell_type": "markdown",
      "metadata": {},
      "source": [
        "## 2.1 Laplacian"
      ]
    },
    {
      "cell_type": "code",
      "execution_count": null,
      "metadata": {},
      "outputs": [],
      "source": [
        "Lsym = compute_Lsym(A)\n",
        "Lsym = torch.from_numpy(Lsym).float().to(device)"
      ]
    },
    {
      "cell_type": "code",
      "execution_count": null,
      "metadata": {},
      "outputs": [],
      "source": [
        "model = GCN_Classifier(input_dim=dataset.num_features,\n",
        "                       hidden_dim=args['hidden_dim'],\n",
        "                       hidden_layers=args['hidden_layers'],\n",
        "                       output_dim=dataset.num_classes,\n",
        "                       dropout=args['dropout']).to(args['device'])\n",
        "\n",
        "optimizer = torch.optim.Adam(model.parameters(), lr=args['lr'])\n",
        "loss_fn = nll_loss\n",
        "\n",
        "for epoch in range(1, 1 + args[\"epochs\"]):\n",
        "  loss = train(model, data, train_idx, args['trans_matrix'], optimizer, loss_fn)\n",
        "  train_acc, test_acc = test(model, data, train_idx, test_idx, args['trans_matrix'])\n",
        "\n",
        "  print(f'Epoch: {epoch:02d}, '\n",
        "        f'Loss: {loss:.4f}, '\n",
        "        f'Train: {100*train_acc:.2f}%, '\n",
        "        f'Test: {100*test_acc:.2f}%')"
      ]
    },
    {
      "cell_type": "markdown",
      "metadata": {},
      "source": [
        "## 2.2 page rank"
      ]
    },
    {
      "cell_type": "code",
      "execution_count": null,
      "metadata": {},
      "outputs": [],
      "source": [
        "pagerank = gdc_pagerank(A, 0.05, 1e-4)\n",
        "pagerank = torch.from_numpy(pagerank).float().to(device)\n",
        "args['trans_matrix'] = pagerank\n",
        "\n",
        "model = GCN_Classifier(input_dim=dataset.num_features,\n",
        "                       hidden_dim=args['hidden_dim'],\n",
        "                       hidden_layers=args['hidden_layers'],\n",
        "                       output_dim=dataset.num_classes,\n",
        "                       dropout=args['dropout']).to(args['device'])\n",
        "\n",
        "optimizer = torch.optim.Adam(model.parameters(), lr=args['lr'])\n",
        "loss_fn = nll_loss\n",
        "\n",
        "for epoch in range(1, 1 + args[\"epochs\"]):\n",
        "  loss = train(model, data, train_idx, args['trans_matrix'], optimizer, loss_fn)\n",
        "  train_acc, test_acc = test(model, data, train_idx, test_idx, args['trans_matrix'])\n",
        "\n",
        "  print(f'Epoch: {epoch:02d}, '\n",
        "        f'Loss: {loss:.4f}, '\n",
        "        f'Train: {100*train_acc:.2f}%, '\n",
        "        f'Test: {100*test_acc:.2f}%')"
      ]
    },
    {
      "cell_type": "markdown",
      "metadata": {},
      "source": [
        "## 2.3 Heat Kernel"
      ]
    },
    {
      "cell_type": "code",
      "execution_count": null,
      "metadata": {},
      "outputs": [],
      "source": [
        "heat = gdc_heat(A, 3, 10, 1e-4)\n",
        "heat = torch.from_numpy(heat).float().to(device)\n",
        "\n",
        "args['trans_matrix'] = heat\n",
        "\n",
        "model = GCN_Classifier(input_dim=dataset.num_features,\n",
        "                       hidden_dim=args['hidden_dim'],\n",
        "                       hidden_layers=args['hidden_layers'],\n",
        "                       output_dim=dataset.num_classes,\n",
        "                       dropout=args['dropout']).to(args['device'])\n",
        "\n",
        "optimizer = torch.optim.Adam(model.parameters(), lr=args['lr'])\n",
        "loss_fn = nll_loss\n",
        "\n",
        "for epoch in range(1, 1 + args[\"epochs\"]):\n",
        "  loss = train(model, data, train_idx, args['trans_matrix'], optimizer, loss_fn)\n",
        "  train_acc, test_acc = test(model, data, train_idx, test_idx, args['trans_matrix'])\n",
        "\n",
        "  print(f'Epoch: {epoch:02d}, '\n",
        "        f'Loss: {loss:.4f}, '\n",
        "        f'Train: {100*train_acc:.2f}%, '\n",
        "        f'Test: {100*test_acc:.2f}%')"
      ]
    }
  ],
  "metadata": {
    "accelerator": "GPU",
    "colab": {
      "provenance": []
    },
    "gpuClass": "standard",
    "kernelspec": {
      "display_name": "venv",
      "language": "python",
      "name": "python3"
    },
    "language_info": {
      "codemirror_mode": {
        "name": "ipython",
        "version": 3
      },
      "file_extension": ".py",
      "mimetype": "text/x-python",
      "name": "python",
      "nbconvert_exporter": "python",
      "pygments_lexer": "ipython3",
      "version": "3.9.13"
    },
    "orig_nbformat": 4,
    "vscode": {
      "interpreter": {
        "hash": "877977f2f616ef89ae9c0db206424d48530d28929fbeef55383760714580946d"
      }
    }
  },
  "nbformat": 4,
  "nbformat_minor": 0
}

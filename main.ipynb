{
  "cells": [
    {
      "cell_type": "code",
      "execution_count": 2,
      "metadata": {
        "colab": {
          "base_uri": "https://localhost:8080/"
        },
        "id": "BGcxZqVSKqBT",
        "outputId": "e0b47720-9f4f-4d38-d0c8-612cef60e53b"
      },
      "outputs": [
        {
          "name": "stderr",
          "output_type": "stream",
          "text": [
            "c:\\Users\\33646\\Desktop\\ENSAE\\Structured data\\venv\\lib\\site-packages\\tqdm\\auto.py:22: TqdmWarning: IProgress not found. Please update jupyter and ipywidgets. See https://ipywidgets.readthedocs.io/en/stable/user_install.html\n",
            "  from .autonotebook import tqdm as notebook_tqdm\n"
          ]
        },
        {
          "name": "stdout",
          "output_type": "stream",
          "text": [
            "device: cpu\n"
          ]
        }
      ],
      "source": [
        "colab = False\n",
        "\n",
        "import torch\n",
        "import os \n",
        "\n",
        "if colab:\n",
        "  print(\"PyTorch has version {}\".format(torch.__version__))\n",
        "\n",
        "  # Install torch geometric\n",
        "  if 'IS_GRADESCOPE_ENV' not in os.environ:\n",
        "    !pip install torch-scatter -f https://pytorch-geometric.com/whl/torch-1.13.1+cu116.html\n",
        "    !pip install torch-sparse -f https://pytorch-geometric.com/whl/torch-1.13.1+cu116.html\n",
        "    !pip install torch-geometric\n",
        "\n",
        "  !git clone https://github.com/thibautvalour/Graph-Diffusion-Convolution.git\n",
        "  %cd Graph-Diffusion-Convolution\n",
        "\n",
        "import numpy as np\n",
        "import networkx as nx\n",
        "import pandas as pd\n",
        "import math as math\n",
        "from torch_geometric.datasets import Planetoid\n",
        "from torch_geometric.transforms.gdc import GDC\n",
        "from torch.nn.functional import nll_loss\n",
        "import matplotlib.pyplot as plt\n",
        "\n",
        "from matrix_format import gdc_pagerank, gdc_heat, compute_Lsym, compute_Lrw\n",
        "from models import GCN_Classifier\n",
        "from utils import train, test\n",
        "\n",
        "device = torch.device('cuda' if torch.cuda.is_available() else 'cpu')\n",
        "print('device:', device)"
      ]
    },
    {
      "cell_type": "markdown",
      "metadata": {
        "id": "yZ5osB7ONHje"
      },
      "source": [
        "# 1 Cora"
      ]
    },
    {
      "cell_type": "code",
      "execution_count": 3,
      "metadata": {
        "colab": {
          "base_uri": "https://localhost:8080/"
        },
        "id": "9Ms7M0izNHjg",
        "outputId": "6c97906d-6c29-4ab4-e619-b57713fc1d45"
      },
      "outputs": [
        {
          "name": "stderr",
          "output_type": "stream",
          "text": [
            "C:\\Users\\33646\\AppData\\Local\\Temp\\ipykernel_33104\\398904010.py:6: UserWarning: To copy construct from a tensor, it is recommended to use sourceTensor.clone().detach() or sourceTensor.clone().detach().requires_grad_(True), rather than torch.tensor(sourceTensor).\n",
            "  test_idx = torch.tensor(np.logical_not(train_idx)).to(bool).to(device)\n"
          ]
        }
      ],
      "source": [
        "dataset = Planetoid(root='../cora', name='Cora')\n",
        "data = dataset[0]\n",
        "\n",
        "test_prop = 0.2\n",
        "train_idx = torch.tensor(np.random.binomial(1, 1-test_prop, size=data.y.shape[0])).to(bool)\n",
        "test_idx = torch.tensor(np.logical_not(train_idx)).to(bool).to(device)\n",
        "train_idx = train_idx.to(device)\n",
        "\n",
        "Gnx = nx.from_pandas_edgelist(pd.DataFrame(data['edge_index'].T,\n",
        "                                           columns=['source', 'target']))\n",
        "Gnx = Gnx.to_undirected()\n",
        "\n",
        "# Exctract adjacency matrix\n",
        "A = nx.adjacency_matrix(Gnx).toarray()\n",
        "data = data.to(device)\n",
        "\n",
        "accuracy_dict = {}"
      ]
    },
    {
      "cell_type": "markdown",
      "metadata": {
        "id": "U6XzVxtENHjh"
      },
      "source": [
        "### 1.1 Laplacian matrix"
      ]
    },
    {
      "cell_type": "code",
      "execution_count": null,
      "metadata": {
        "id": "erC5X1k6NHjh"
      },
      "outputs": [],
      "source": [
        "Lsym = compute_Lsym(A)\n",
        "Lsym = torch.from_numpy(Lsym).float().to(device)"
      ]
    },
    {
      "cell_type": "code",
      "execution_count": null,
      "metadata": {
        "id": "vmsuqARsNHjh"
      },
      "outputs": [],
      "source": [
        "args = {\n",
        "    'device': device,\n",
        "    'hidden_layers': 1,\n",
        "    'hidden_dim': 264,\n",
        "    'dropout': 0.3,\n",
        "    'lr': 3e-4,\n",
        "    'epochs': 80,\n",
        "    'trans_matrix': Lsym\n",
        "}"
      ]
    },
    {
      "cell_type": "code",
      "execution_count": null,
      "metadata": {
        "colab": {
          "base_uri": "https://localhost:8080/"
        },
        "id": "Mo0MZ4PQNHji",
        "outputId": "ee96cdcb-22f2-4a8d-b339-048dd3fb873d"
      },
      "outputs": [],
      "source": [
        "model = GCN_Classifier(input_dim=dataset.num_features,\n",
        "                       hidden_dim=args['hidden_dim'],\n",
        "                       hidden_layers=args['hidden_layers'],\n",
        "                       output_dim=dataset.num_classes,\n",
        "                       dropout=args['dropout']).to(args['device'])\n",
        "\n",
        "optimizer = torch.optim.Adam(model.parameters(), lr=args['lr'])\n",
        "loss_fn = nll_loss\n",
        "\n",
        "\n",
        "accuracy_dict['Lsym'] = []\n",
        "for epoch in range(1, 1 + args[\"epochs\"]):\n",
        "  loss = train(model, data, train_idx, args['trans_matrix'], optimizer, loss_fn)\n",
        "  train_acc, test_acc = test(model, data, train_idx, test_idx, args['trans_matrix'])\n",
        "\n",
        "  accuracy_dict['Lsym'].append(test_acc)\n",
        "  print(f'Epoch: {epoch:02d}, '\n",
        "        f'Loss: {loss:.4f}, '\n",
        "        f'Train: {100*train_acc:.2f}%, '\n",
        "        f'Test: {100*test_acc:.2f}%')"
      ]
    },
    {
      "cell_type": "code",
      "execution_count": null,
      "metadata": {
        "id": "54IYcpLGNHjj"
      },
      "outputs": [],
      "source": [
        "Lrw = compute_Lrw(A)\n",
        "Lrw = torch.from_numpy(Lrw).float().to(device)\n",
        "args['trans_matrix'] = Lrw"
      ]
    },
    {
      "cell_type": "code",
      "execution_count": null,
      "metadata": {
        "colab": {
          "base_uri": "https://localhost:8080/"
        },
        "id": "P4hHfdUaNHjj",
        "outputId": "7ad99e1c-7dc8-4d4b-acdb-0db5c99904fa"
      },
      "outputs": [],
      "source": [
        "model = GCN_Classifier(input_dim=dataset.num_features,\n",
        "                       hidden_dim=args['hidden_dim'],\n",
        "                       hidden_layers=args['hidden_layers'],\n",
        "                       output_dim=dataset.num_classes,\n",
        "                       dropout=args['dropout']).to(args['device'])\n",
        "\n",
        "optimizer = torch.optim.Adam(model.parameters(), lr=args['lr'])\n",
        "loss_fn = nll_loss\n",
        "\n",
        "accuracy_dict['Lrw'] = []\n",
        "for epoch in range(1, 1 + args[\"epochs\"]):\n",
        "  loss = train(model, data, train_idx, args['trans_matrix'], optimizer, loss_fn)\n",
        "  train_acc, test_acc = test(model, data, train_idx, test_idx, args['trans_matrix'])\n",
        "\n",
        "  accuracy_dict['Lrw'].append(test_acc)\n",
        "  print(f'Epoch: {epoch:02d}, '\n",
        "        f'Loss: {loss:.4f}, '\n",
        "        f'Train: {100*train_acc:.2f}%, '\n",
        "        f'Test: {100*test_acc:.2f}%')"
      ]
    },
    {
      "cell_type": "markdown",
      "metadata": {
        "id": "NU1lOaO0NHjk"
      },
      "source": [
        "### 1.2 Page rank"
      ]
    },
    {
      "cell_type": "code",
      "execution_count": null,
      "metadata": {
        "id": "Owm4IW40NHjl"
      },
      "outputs": [],
      "source": [
        "# pagerank = gdc_pagerank(A, 0.05, 1e-4)\n",
        "# pagerank = torch.from_numpy(pagerank).float().to(device)\n",
        "\n",
        "gdc = GDC(diffusion_kwargs = dict(method='ppr', alpha=0.15))\n",
        "edge_index, edge_weight = gdc.transition_matrix(edge_index=data.edge_index, edge_weight=data.edge_weight,\n",
        "                                                num_nodes=data.num_nodes, normalization='sym')    \n",
        "\n",
        "trans_matrix = torch.zeros((data.num_nodes, data.num_nodes)).to(device)\n",
        "trans_matrix[edge_index[0], edge_index[1]] = edge_weight\n",
        "\n",
        "trans_matrix.fill_diagonal_(1)\n",
        "pagerank = trans_matrix.to(device)\n",
        "\n",
        "args['trans_matrix'] = pagerank"
      ]
    },
    {
      "cell_type": "code",
      "execution_count": null,
      "metadata": {
        "colab": {
          "base_uri": "https://localhost:8080/"
        },
        "id": "bTepgU1dNHjm",
        "outputId": "74aaab2e-3a8d-4669-b84e-117c7ad5218f"
      },
      "outputs": [],
      "source": [
        "model = GCN_Classifier(input_dim=dataset.num_features,\n",
        "                       hidden_dim=args['hidden_dim'],\n",
        "                       hidden_layers=args['hidden_layers'],\n",
        "                       output_dim=dataset.num_classes,\n",
        "                       dropout=args['dropout']).to(args['device'])\n",
        "\n",
        "optimizer = torch.optim.Adam(model.parameters(), lr=args['lr'])\n",
        "loss_fn = nll_loss\n",
        "\n",
        "accuracy_dict['pagerank'] = []\n",
        "for epoch in range(1, 1 + args[\"epochs\"]):\n",
        "  loss = train(model, data, train_idx, args['trans_matrix'], optimizer, loss_fn)\n",
        "  train_acc, test_acc = test(model, data, train_idx, test_idx, args['trans_matrix'])\n",
        "\n",
        "  accuracy_dict['pagerank'].append(test_acc)\n",
        "  print(f'Epoch: {epoch:02d}, '\n",
        "        f'Loss: {loss:.4f}, '\n",
        "        f'Train: {100*train_acc:.2f}%, '\n",
        "        f'Test: {100*test_acc:.2f}%')"
      ]
    },
    {
      "cell_type": "markdown",
      "metadata": {
        "id": "6esaq6BhNHjn"
      },
      "source": [
        "### 1.3 Heat"
      ]
    },
    {
      "cell_type": "code",
      "execution_count": null,
      "metadata": {
        "id": "210cutP4NHjn"
      },
      "outputs": [],
      "source": [
        "# heat = gdc_heat(A, 3, 10, 1e-4)\n",
        "# heat = torch.from_numpy(heat).float().to(device)\n",
        "\n",
        "gdc = GDC(diffusion_kwargs = dict(method='heat', t=3))\n",
        "edge_index, edge_weight = gdc.transition_matrix(edge_index=data.edge_index, edge_weight=data.edge_weight,\n",
        "                                                num_nodes=data.num_nodes, normalization='sym')    \n",
        "\n",
        "trans_matrix = torch.zeros((data.num_nodes, data.num_nodes)).to(device)\n",
        "trans_matrix[edge_index[0], edge_index[1]] = edge_weight\n",
        "\n",
        "trans_matrix.fill_diagonal_(1)\n",
        "heat = trans_matrix.to(device)\n",
        "\n",
        "args['trans_matrix'] = heat"
      ]
    },
    {
      "cell_type": "code",
      "execution_count": null,
      "metadata": {
        "colab": {
          "base_uri": "https://localhost:8080/"
        },
        "id": "fTYOQUJGNHjo",
        "outputId": "5f30d466-7bce-4235-d8fd-6cd45b991b85"
      },
      "outputs": [],
      "source": [
        "model = GCN_Classifier(input_dim=dataset.num_features,\n",
        "                       hidden_dim=args['hidden_dim'],\n",
        "                       hidden_layers=args['hidden_layers'],\n",
        "                       output_dim=dataset.num_classes,\n",
        "                       dropout=args['dropout']).to(args['device'])\n",
        "\n",
        "optimizer = torch.optim.Adam(model.parameters(), lr=args['lr'])\n",
        "loss_fn = nll_loss\n",
        "\n",
        "accuracy_dict['heat'] = []\n",
        "for epoch in range(1, 1 + args[\"epochs\"]):\n",
        "  loss = train(model, data, train_idx, args['trans_matrix'], optimizer, loss_fn)\n",
        "  train_acc, test_acc = test(model, data, train_idx, test_idx, args['trans_matrix'])\n",
        "\n",
        "  accuracy_dict['heat'].append(test_acc)\n",
        "  print(f'Epoch: {epoch:02d}, '\n",
        "        f'Loss: {loss:.4f}, '\n",
        "        f'Train: {100*train_acc:.2f}%, '\n",
        "        f'Test: {100*test_acc:.2f}%')"
      ]
    },
    {
      "cell_type": "code",
      "execution_count": null,
      "metadata": {},
      "outputs": [],
      "source": [
        "\n",
        "plt.plot(accuracy_dict['Lsym'], label='Lsym')\n",
        "plt.plot(accuracy_dict['Lrw'], label='Lrw')\n",
        "plt.plot(accuracy_dict['pagerank'], label='pagerank')\n",
        "plt.plot(accuracy_dict['heat'], label='heat')\n",
        "plt.legend()\n",
        "plt.xlabel('Epochs')\n",
        "plt.ylabel('Accuracy')\n",
        "plt.title('Accuracy vs Epochs')"
      ]
    },
    {
      "attachments": {},
      "cell_type": "markdown",
      "metadata": {
        "id": "59A0ArlMOdTG"
      },
      "source": [
        "# Amazon"
      ]
    },
    {
      "cell_type": "code",
      "execution_count": null,
      "metadata": {},
      "outputs": [],
      "source": [
        "from torch_geometric.datasets import Amazon\n",
        "\n",
        "dataset = Amazon(root='../cora', name='Computers')\n",
        "data = dataset[0]\n",
        "\n",
        "Gnx = nx.Graph()\n",
        "Gnx.add_nodes_from(range(data.x.shape[0]))\n",
        "\n",
        "# Convert edge_index tensor to a list of edge tuples\n",
        "edges = torch.t(data.edge_index).tolist()\n",
        "Gnx.add_edges_from(edges)\n",
        "Gnx = Gnx.to_undirected()\n",
        "\n",
        "isolated_nodes = list(nx.isolates(Gnx))\n",
        "Gnx.remove_nodes_from(isolated_nodes)\n",
        "\n",
        "mapping = {node: idx for idx, node in enumerate(Gnx.nodes)}\n",
        "Gnx = nx.relabel_nodes(Gnx, mapping)\n",
        "\n",
        "A = nx.adjacency_matrix(Gnx).toarray()\n",
        "\n",
        "data.x = data.x[list(mapping.values())]\n",
        "data.y = data.y[list(mapping.values())]\n",
        "data = data.to(device)\n",
        "\n",
        "test_prop = 0.2\n",
        "train_idx = torch.tensor(np.random.binomial(1, 1-test_prop, size=data.y.shape[0])).to(bool)\n",
        "test_idx = torch.tensor(np.logical_not(train_idx)).to(bool).to(device)\n",
        "train_idx = train_idx.to(device)\n",
        "\n",
        "accuracy_dict = {}"
      ]
    },
    {
      "cell_type": "markdown",
      "metadata": {},
      "source": [
        "## 2.1 Laplacian"
      ]
    },
    {
      "cell_type": "code",
      "execution_count": null,
      "metadata": {},
      "outputs": [],
      "source": [
        "Lsym = compute_Lsym(A)\n",
        "Lsym = torch.from_numpy(Lsym).float().to(device)\n",
        "args['trans_matrix'] = Lsym"
      ]
    },
    {
      "cell_type": "code",
      "execution_count": null,
      "metadata": {},
      "outputs": [],
      "source": [
        "model = GCN_Classifier(input_dim=dataset.num_features,\n",
        "                       hidden_dim=args['hidden_dim'],\n",
        "                       hidden_layers=args['hidden_layers'],\n",
        "                       output_dim=dataset.num_classes,\n",
        "                       dropout=args['dropout']).to(args['device'])\n",
        "\n",
        "optimizer = torch.optim.Adam(model.parameters(), lr=args['lr'])\n",
        "loss_fn = nll_loss\n",
        "\n",
        "accuracy_dict['Lsym'] = []\n",
        "for epoch in range(1, 1 + args[\"epochs\"]):\n",
        "  loss = train(model, data, train_idx, args['trans_matrix'], optimizer, loss_fn)\n",
        "  train_acc, test_acc = test(model, data, train_idx, test_idx, args['trans_matrix'])\n",
        "\n",
        "  accuracy_dict['Lsym'].append(test_acc)\n",
        "  print(f'Epoch: {epoch:02d}, '\n",
        "        f'Loss: {loss:.4f}, '\n",
        "        f'Train: {100*train_acc:.2f}%, '\n",
        "        f'Test: {100*test_acc:.2f}%')"
      ]
    },
    {
      "cell_type": "markdown",
      "metadata": {},
      "source": [
        "## 2.2 page rank"
      ]
    },
    {
      "cell_type": "code",
      "execution_count": null,
      "metadata": {},
      "outputs": [],
      "source": [
        "# pagerank = gdc_pagerank(A, 0.05, 1e-4)\n",
        "# pagerank = torch.from_numpy(pagerank).float().to(device)\n",
        "\n",
        "gdc = GDC(diffusion_kwargs = dict(method='ppr', alpha=0.15))\n",
        "edge_index, edge_weight = gdc.transition_matrix(edge_index=data.edge_index, edge_weight=data.edge_weight,\n",
        "                                                num_nodes=data.num_nodes, normalization='sym')    \n",
        "trans_matrix = torch.zeros((data.num_nodes, data.num_nodes)).to(device)\n",
        "trans_matrix[edge_index[0], edge_index[1]] = edge_weight\n",
        "\n",
        "trans_matrix.fill_diagonal_(1)\n",
        "pagerank = trans_matrix.to(device)\n",
        "args['trans_matrix'] = pagerank\n",
        "\n",
        "model = GCN_Classifier(input_dim=dataset.num_features,\n",
        "                       hidden_dim=args['hidden_dim'],\n",
        "                       hidden_layers=args['hidden_layers'],\n",
        "                       output_dim=dataset.num_classes,\n",
        "                       dropout=args['dropout']).to(args['device'])\n",
        "\n",
        "optimizer = torch.optim.Adam(model.parameters(), lr=args['lr'])\n",
        "loss_fn = nll_loss\n",
        "\n",
        "\n",
        "accuracy_dict['pagerank'] = []\n",
        "for epoch in range(1, 1 + args[\"epochs\"]):\n",
        "  loss = train(model, data, train_idx, args['trans_matrix'], optimizer, loss_fn)\n",
        "  train_acc, test_acc = test(model, data, train_idx, test_idx, args['trans_matrix'])\n",
        "\n",
        "  accuracy_dict['pagerank'].append(test_acc)\n",
        "  print(f'Epoch: {epoch:02d}, '\n",
        "        f'Loss: {loss:.4f}, '\n",
        "        f'Train: {100*train_acc:.2f}%, '\n",
        "        f'Test: {100*test_acc:.2f}%')"
      ]
    },
    {
      "cell_type": "markdown",
      "metadata": {},
      "source": [
        "## 2.3 Heat Kernel"
      ]
    },
    {
      "cell_type": "code",
      "execution_count": null,
      "metadata": {},
      "outputs": [],
      "source": [
        "# heat = gdc_heat(A, 3, 10, 1e-4)\n",
        "# heat = torch.from_numpy(heat).float().to(device)\n",
        "\n",
        "gdc = GDC(diffusion_kwargs = dict(method='heat', t=3))\n",
        "edge_index, edge_weight = gdc.transition_matrix(edge_index=data.edge_index, edge_weight=data.edge_weight,\n",
        "                                                num_nodes=data.num_nodes, normalization='sym')    \n",
        "\n",
        "trans_matrix = torch.zeros((data.num_nodes, data.num_nodes)).to(device)\n",
        "trans_matrix[edge_index[0], edge_index[1]] = edge_weight\n",
        "\n",
        "trans_matrix.fill_diagonal_(1)\n",
        "heat = trans_matrix.to(device)\n",
        "\n",
        "args['trans_matrix'] = heat\n",
        "\n",
        "model = GCN_Classifier(input_dim=dataset.num_features,\n",
        "                       hidden_dim=args['hidden_dim'],\n",
        "                       hidden_layers=args['hidden_layers'],\n",
        "                       output_dim=dataset.num_classes,\n",
        "                       dropout=args['dropout']).to(args['device'])\n",
        "\n",
        "optimizer = torch.optim.Adam(model.parameters(), lr=args['lr'])\n",
        "loss_fn = nll_loss\n",
        "\n",
        "accuracy_dict['heat'] = []\n",
        "for epoch in range(1, 1 + args[\"epochs\"]):\n",
        "  loss = train(model, data, train_idx, args['trans_matrix'], optimizer, loss_fn)\n",
        "  train_acc, test_acc = test(model, data, train_idx, test_idx, args['trans_matrix'])\n",
        "\n",
        "  accuracy_dict['heat'].append(test_acc)\n",
        "  print(f'Epoch: {epoch:02d}, '\n",
        "        f'Loss: {loss:.4f}, '\n",
        "        f'Train: {100*train_acc:.2f}%, '\n",
        "        f'Test: {100*test_acc:.2f}%')"
      ]
    },
    {
      "cell_type": "code",
      "execution_count": null,
      "metadata": {},
      "outputs": [],
      "source": [
        "plt.plot(accuracy_dict['Lsym'], label='Lsym')\n",
        "plt.plot(accuracy_dict['pagerank'], label='pagerank')\n",
        "plt.plot(accuracy_dict['heat'], label='heat')\n",
        "plt.legend()\n",
        "plt.xlabel('Epochs')\n",
        "plt.ylabel('Test Accuracy')\n",
        "plt.title('performance vs transition Matrix')\n",
        "plt.show()"
      ]
    }
  ],
  "metadata": {
    "accelerator": "GPU",
    "colab": {
      "provenance": []
    },
    "gpuClass": "standard",
    "kernelspec": {
      "display_name": "venv",
      "language": "python",
      "name": "python3"
    },
    "language_info": {
      "codemirror_mode": {
        "name": "ipython",
        "version": 3
      },
      "file_extension": ".py",
      "mimetype": "text/x-python",
      "name": "python",
      "nbconvert_exporter": "python",
      "pygments_lexer": "ipython3",
      "version": "3.9.13"
    },
    "orig_nbformat": 4,
    "vscode": {
      "interpreter": {
        "hash": "877977f2f616ef89ae9c0db206424d48530d28929fbeef55383760714580946d"
      }
    }
  },
  "nbformat": 4,
  "nbformat_minor": 0
}
